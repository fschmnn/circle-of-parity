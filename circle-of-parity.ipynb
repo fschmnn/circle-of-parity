{
 "cells": [
  {
   "cell_type": "markdown",
   "id": "49e318d3",
   "metadata": {},
   "source": [
    "# The NFL circle of parity 2022\n",
    "\n",
    "This notebook contains the code for the Phoebe article *The NFL circle of parity 2022*. \n",
    "\n",
    "## Get the data\n",
    "\n",
    "First we need the outcome of every game in this years NFL season. For this, we take the table from [www.pro-football-reference.com](https://www.pro-football-reference.com/years/2022/games.htm) and save it as a text file."
   ]
  },
  {
   "cell_type": "code",
   "execution_count": null,
   "id": "0327e2e0",
   "metadata": {},
   "outputs": [],
   "source": [
    "import pandas as pd\n",
    "import numpy as np\n",
    "import networkx as nx\n",
    "\n",
    "df = pd.read_csv('Games2022.txt')\n",
    "\n",
    "# delete unused columns and rename others\n",
    "del df['Unnamed: 5']\n",
    "df.rename(columns = {'Unnamed: 7':'status','Winner/tie':'Winner','Loser/tie':'Loser'}, inplace = True)\n",
    "\n",
    "# we are only interested in games that are already played\n",
    "df = df[df.status=='boxscore']\n",
    "\n",
    "# we know that each team has won at least once, so this gives us a list of teams\n",
    "teams = np.unique(df['Winner'])"
   ]
  },
  {
   "cell_type": "markdown",
   "id": "25817f17",
   "metadata": {},
   "source": [
    "## Create a Graph"
   ]
  },
  {
   "cell_type": "code",
   "execution_count": null,
   "id": "d3e46a29",
   "metadata": {},
   "outputs": [],
   "source": [
    "# we need a directed Graph\n",
    "G = nx.DiGraph()\n",
    "\n",
    "# add all teams as nodes\n",
    "G.add_nodes_from(teams)\n",
    "\n",
    "# add the edges to the graph\n",
    "for index,row in df.iterrows():\n",
    "    # we only want to do this if a team wins\n",
    "    if row.PtsW>row.PtsL:\n",
    "        G.add_edge(row.Winner,row.Loser)"
   ]
  },
  {
   "cell_type": "markdown",
   "id": "4247c706",
   "metadata": {},
   "source": [
    "We can use the `networkx` function `simple_cycles` to search for cycles. With 32 teams and 167 games played so far, there is an unfathomable number of cycles. If we were to compute all of them, it would take way too long. However we are only interested in a cycle that contains all 32 teams (and there are also many of those). Therefore we simply stop once we find one."
   ]
  },
  {
   "cell_type": "code",
   "execution_count": null,
   "id": "e1f54167",
   "metadata": {},
   "outputs": [],
   "source": [
    "# find a cycle that contains all 32 teams\n",
    "cycles = nx.simple_cycles(G)\n",
    "\n",
    "while True:\n",
    "    cycle = next(cycles)\n",
    "    if len(cycle)>31:\n",
    "        break\n",
    "\n",
    "print(cycle)"
   ]
  },
  {
   "cell_type": "markdown",
   "id": "867631db",
   "metadata": {},
   "source": [
    "## Plot the circle\n",
    "\n",
    "We have the result, but it is currently only displayed as a boring list. We can use `matplotlib` to make it a bit more exiting. Instead of writing out the team name, we grab the logos of the teams (from [www.sportytell.com](https://sportytell.com/nfl/nfl-team-logos/)) and display them in a circle according the the previously determined cycle."
   ]
  },
  {
   "cell_type": "code",
   "execution_count": null,
   "id": "10079644",
   "metadata": {},
   "outputs": [],
   "source": [
    "import matplotlib.image as mpimg\n",
    "\n",
    "# we save the logos in a dictionary\n",
    "team_logos = {}\n",
    "\n",
    "for name in teams:\n",
    "    \n",
    "    team_name = name.lower().replace(' ','-')\n",
    "    logo = f'https://i0.wp.com/sportytell.com/wp-content/uploads/2020/11/nfl-{team_name}-team-logo.png?resize=300%2C300&ssl=1'\n",
    "    \n",
    "    # not good practice, but a few teams have a slightly different format\n",
    "    # and it is much quicker to address this problem this way\n",
    "    try:\n",
    "        team_logos[name] = mpimg.imread(logo)\n",
    "    except:\n",
    "        print(f'problems with {name}')\n",
    "        \n",
    "# we just add the logos manually\n",
    "team_logos['Las Vegas Raiders'] = mpimg.imread('https://i0.wp.com/sportytell.com/wp-content/uploads/2020/11/nfl-oakland-raiders-team-logo.png?resize=300%2C300&ssl=1')\n",
    "team_logos['Los Angeles Rams'] = mpimg.imread('https://i0.wp.com/sportytell.com/wp-content/uploads/2020/11/los-angeles-rams-logo.png?resize=300%2C300&ssl=1')\n",
    "team_logos['Miami Dolphins'] = mpimg.imread('https://i0.wp.com/sportytell.com/wp-content/uploads/2020/11/nfl-miami-dolphins-logo018.png?resize=300%2C300&ssl=1')\n",
    "team_logos['Washington Commanders'] = mpimg.imread('https://i0.wp.com/sportytell.com/wp-content/uploads/2020/11/washington-football-team-logo.png?resize=300%2C300&ssl=1')\n",
    "       \n",
    "# we also grab the NFL logo\n",
    "nfl_logo = 'https://i0.wp.com/sportytell.com/wp-content/uploads/2020/11/nfl-league-logo.png?resize=300%2C300&ssl=1'\n",
    "nfl_logo_img = mpimg.imread(nfl_logo)"
   ]
  },
  {
   "cell_type": "code",
   "execution_count": null,
   "id": "7cda49ad",
   "metadata": {},
   "outputs": [],
   "source": [
    "import matplotlib.pyplot as plt\n",
    "\n",
    "fig,ax=plt.subplots(figsize=(7,7))\n",
    "logo_size = 0.16\n",
    "\n",
    "for i,name in enumerate(cycle):\n",
    "    \n",
    "    # place the logs along a circle\n",
    "    x = np.sin(i/len(cycle)*2*np.pi)-logo_size/2\n",
    "    y = np.cos(i/len(cycle)*2*np.pi)-logo_size/2\n",
    "    axins = ax.inset_axes([x,y,logo_size,logo_size],transform=ax.transData)\n",
    "    axins.imshow(team_logos[name])    \n",
    "    axins.axis('off')\n",
    "    \n",
    "    # create the text with the result of the game\n",
    "    losing_team = name\n",
    "    winning_team = cycle[i-1]\n",
    "    game = df[(df.Winner==winning_team) & (df.Loser==losing_team)].iloc[0]\n",
    "    text = f'Week {game.Week} \\n {game.PtsW:.0f}–{game.PtsL:.0f}'\n",
    "    # we place the text between the logos\n",
    "    x = 0.8*np.sin((i-0.5)/len(cycle)*2*np.pi)\n",
    "    y = 0.8*np.cos((i-0.5)/len(cycle)*2*np.pi)\n",
    "    ax.text(x,y,text,transform=ax.transData,fontsize=6,\n",
    "            ha='center',va='center',weight='bold')\n",
    "    \n",
    "# put the NFL logo in the center\n",
    "axins = ax.inset_axes([-0.5,-0.5, 1, 1],transform=ax.transData)\n",
    "axins.imshow(nfl_logo_img)\n",
    "axins.axis('off')\n",
    "\n",
    "# and some final adjustments\n",
    "ax.axis('off')\n",
    "ax.set(xlim=[-1,1],ylim=[-1,1])\n",
    "\n",
    "#plt.savefig('circle-of-parity.png',dpi=400,transparent=False)\n",
    "plt.show()"
   ]
  }
 ],
 "metadata": {
  "kernelspec": {
   "display_name": "Python 3 (ipykernel)",
   "language": "python",
   "name": "python3"
  },
  "language_info": {
   "codemirror_mode": {
    "name": "ipython",
    "version": 3
   },
   "file_extension": ".py",
   "mimetype": "text/x-python",
   "name": "python",
   "nbconvert_exporter": "python",
   "pygments_lexer": "ipython3",
   "version": "3.10.4"
  },
  "latex_envs": {
   "LaTeX_envs_menu_present": true,
   "autoclose": false,
   "autocomplete": true,
   "bibliofile": "biblio.bib",
   "cite_by": "apalike",
   "current_citInitial": 1,
   "eqLabelWithNumbers": true,
   "eqNumInitial": 1,
   "hotkeys": {
    "equation": "Ctrl-E",
    "itemize": "Ctrl-I"
   },
   "labels_anchors": false,
   "latex_user_defs": false,
   "report_style_numbering": false,
   "user_envs_cfg": false
  },
  "toc": {
   "base_numbering": 1,
   "nav_menu": {},
   "number_sections": true,
   "sideBar": true,
   "skip_h1_title": false,
   "title_cell": "Table of Contents",
   "title_sidebar": "Contents",
   "toc_cell": false,
   "toc_position": {},
   "toc_section_display": true,
   "toc_window_display": false
  }
 },
 "nbformat": 4,
 "nbformat_minor": 5
}
